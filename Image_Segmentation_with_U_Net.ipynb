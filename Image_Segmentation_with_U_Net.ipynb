{
  "cells": [
    {
      "cell_type": "markdown",
      "metadata": {
        "id": "view-in-github",
        "colab_type": "text"
      },
      "source": [
        "<a href=\"https://colab.research.google.com/github/deasadiqbal/computer-vision-project-with-keras-and-tensorflow/blob/main/Image_Segmentation_with_U_Net.ipynb\" target=\"_parent\"><img src=\"https://colab.research.google.com/assets/colab-badge.svg\" alt=\"Open In Colab\"/></a>"
      ]
    },
    {
      "cell_type": "code",
      "source": [
        "!pip install keras_cv"
      ],
      "metadata": {
        "id": "C2rR3CDL7BWz"
      },
      "execution_count": null,
      "outputs": []
    },
    {
      "cell_type": "code",
      "source": [
        "!pip install keras-core\n"
      ],
      "metadata": {
        "id": "ic4UwxPL9M6C"
      },
      "execution_count": null,
      "outputs": []
    },
    {
      "cell_type": "code",
      "source": [
        "import keras\n",
        "import keras_cv\n",
        "import numpy as np\n",
        "import tensorflow as tf\n",
        "import tensorflow_datasets as tfds\n",
        "import matplotlib.pyplot as plt\n"
      ],
      "metadata": {
        "id": "ncXL5bZe70L1"
      },
      "execution_count": null,
      "outputs": []
    },
    {
      "cell_type": "markdown",
      "source": [
        "## Configuration"
      ],
      "metadata": {
        "id": "iqH7eFOo9TUB"
      }
    },
    {
      "cell_type": "code",
      "source": [
        "#image config\n",
        "IMG_HEIGHT = 160\n",
        "IMG_WIDTH = 160\n",
        "NUM_CLASSES = 3\n",
        "\n",
        "#Augmentation Config\n",
        "ROTATION_FACTOR = (-0.2, 0.2)\n",
        "\n",
        "#Training config\n",
        "BATCH_SIZE = 64 # You can set different BATCH_SIZE\n",
        "EPOCHS = 10 # You can set different EPOCHS\n",
        "LEARNING_RATE = 1e-4\n",
        "AUTOTUNE = tf.data.AUTOTUNE"
      ],
      "metadata": {
        "id": "VWt69A6K8d0D"
      },
      "execution_count": null,
      "outputs": []
    },
    {
      "cell_type": "markdown",
      "source": [
        "## Download The data\n"
      ],
      "metadata": {
        "id": "ynrr9T3H-NoM"
      }
    },
    {
      "cell_type": "code",
      "source": [
        "tfds.disable_progress_bar()\n",
        "train_ds, test_ds = tfds.load(\n",
        "    name=\"oxford_iiit_pet\",\n",
        "    split=[\"train+test[:80%]\", \"test[80%:]\"],\n",
        ")"
      ],
      "metadata": {
        "id": "ohgGaVTe-MQK"
      },
      "execution_count": null,
      "outputs": []
    },
    {
      "cell_type": "markdown",
      "source": [
        "## Preprocessing"
      ],
      "metadata": {
        "id": "PoKIwaJ1_8Ic"
      }
    },
    {
      "cell_type": "code",
      "source": [
        "preprocessed = lambda inputs: {\n",
        "    \"images\": tf.cast(inputs[\"image\"], dtype=tf.float32) / 255.0,\n",
        "    \"segmentation_masks\": inputs[\"segmentation_mask\"] - 1,\n",
        "}\n",
        "\n",
        "train_ds = train_ds.map(\n",
        "    preprocessed, num_parallel_calls=AUTOTUNE\n",
        ")\n",
        "val_ds = test_ds.map(preprocessed, num_parallel_calls=AUTOTUNE)"
      ],
      "metadata": {
        "id": "KOaQoeYs_30t"
      },
      "execution_count": null,
      "outputs": []
    },
    {
      "cell_type": "markdown",
      "source": [
        "## Utility Function"
      ],
      "metadata": {
        "id": "qeG63wY7CCMz"
      }
    },
    {
      "cell_type": "code",
      "source": [
        "def unpack_inputs(inputs):\n",
        "    # Ensure segmentation_masks have the same data type across branches\n",
        "    inputs['segmentation_masks'] = tf.cast(inputs['segmentation_masks'], tf.float32)\n",
        "    return inputs['images'], inputs['segmentation_masks']"
      ],
      "metadata": {
        "id": "a6a0AIqHB0GW"
      },
      "execution_count": null,
      "outputs": []
    },
    {
      "cell_type": "code",
      "source": [
        "plot_train_ds = train_ds.map(unpack_inputs).ragged_batch(4)\n",
        "images, seg_masks = next(iter(plot_train_ds.take(1)))\n",
        "\n",
        "keras_cv.visualization.plot_segmentation_mask_gallery(\n",
        "    images,\n",
        "    value_range = (0, 1),\n",
        "    num_classes = 3,\n",
        "    y_true = seg_masks,\n",
        "    y_pred = None,\n",
        "    scale = 4,\n",
        "    rows = 2,\n",
        "    cols = 2,\n",
        ")"
      ],
      "metadata": {
        "id": "8iH4q2hfDRpe"
      },
      "execution_count": null,
      "outputs": []
    },
    {
      "cell_type": "markdown",
      "source": [
        "## data Augmentation"
      ],
      "metadata": {
        "id": "oEhLE8x5FSmw"
      }
    },
    {
      "cell_type": "code",
      "source": [
        "resize_fn = keras_cv.layers.Resizing(\n",
        "    IMG_HEIGHT,\n",
        "    IMG_WIDTH,\n",
        ")\n",
        "\n",
        "augment_fn = keras.Sequential(\n",
        "    [\n",
        "        resize_fn,\n",
        "        keras_cv.layers.RandomFlip(),\n",
        "        keras_cv.layers.RandomRotation(\n",
        "            factor=ROTATION_FACTOR,\n",
        "            segmentation_classes=NUM_CLASSES,\n",
        "        ),\n",
        "\n",
        "    ]\n",
        ")"
      ],
      "metadata": {
        "id": "aKY2ySq4Elsr"
      },
      "execution_count": null,
      "outputs": []
    },
    {
      "cell_type": "code",
      "source": [
        "augment_train_ds = (\n",
        "    train_ds.shuffle(BATCH_SIZE * 2)\n",
        "    .map(augment_fn, num_parallel_calls=AUTOTUNE)\n",
        "    .map(unpack_inputs)\n",
        "    .batch(BATCH_SIZE)\n",
        "    .prefetch(buffer_size=tf.data.AUTOTUNE)\n",
        ")\n",
        "\n",
        "resized_test_ds = (\n",
        "    val_ds.map(resize_fn, num_parallel_calls=AUTOTUNE)\n",
        "    .map(unpack_inputs)\n",
        "    .batch(BATCH_SIZE)\n",
        "    .prefetch(buffer_size=tf.data.AUTOTUNE)\n",
        ")"
      ],
      "metadata": {
        "id": "jnqTJcgRHY28"
      },
      "execution_count": null,
      "outputs": []
    },
    {
      "cell_type": "markdown",
      "source": [
        "## visualization"
      ],
      "metadata": {
        "id": "6524mlej8-9E"
      }
    },
    {
      "cell_type": "code",
      "source": [
        "images, seg_masks = next(iter(augment_train_ds.take(1)))\n",
        "keras_cv.visualization.plot_segmentation_mask_gallery(\n",
        "    images,\n",
        "    value_range = (0, 1),\n",
        "    num_classes = 3,\n",
        "    y_true = seg_masks,\n",
        "    y_pred = None,\n",
        "    scale = 4,\n",
        "    rows = 2,\n",
        "    cols =2,\n",
        ")"
      ],
      "metadata": {
        "id": "lmuEdQktJ8Nz"
      },
      "execution_count": null,
      "outputs": []
    },
    {
      "cell_type": "markdown",
      "source": [
        "## Model Architecture"
      ],
      "metadata": {
        "id": "9jkoKR__95vx"
      }
    },
    {
      "cell_type": "code",
      "source": [
        "def get_model(img_size, num_classes):\n",
        "  inputs = keras.Input(shape = img_size + (3,))\n",
        "\n",
        "  # Downsampling the inputs\n",
        "\n",
        "  x = keras.layers.Conv2D(32, 3, strides=2, padding='same')(inputs)\n",
        "  x = keras.layers.BatchNormalization()(x)\n",
        "  x = keras.layers.Activation('relu')(x)\n",
        "\n",
        "  previous_block_activation = x\n",
        "\n",
        "  for filters in [64, 128, 256]:\n",
        "    x = keras.layers.Activation('relu')(x)\n",
        "    x = keras.layers.SeparableConv2D(filters, 3, padding = 'same')(x)\n",
        "    x = keras.layers.BatchNormalization()(x)\n",
        "\n",
        "    x = keras.layers.Activation('relu')(x)\n",
        "    x = keras.layers.SeparableConv2D(filters, 3, padding = 'same')(x)\n",
        "    x = keras.layers.BatchNormalization()(x)\n",
        "\n",
        "    x = keras.layers.MaxPooling2D(3, strides=2, padding='same')(x)\n",
        "\n",
        "    #project residual\n",
        "    residual = keras.layers.Conv2D(filters, 1, strides=2, padding='same')(previous_block_activation)\n",
        "    x = keras.layers.add([x, residual]) #add back residual\n",
        "    previous_block_activation = x #set aside next residual\n",
        "\n",
        "  # Upsmaple the inputs\n",
        "\n",
        "  for  filters in [256, 128, 64, 32]:\n",
        "    x = keras.layers.Activation('relu')(x)\n",
        "    x = keras.layers.Conv2DTranspose(filters, 3, padding = 'same')(x)\n",
        "    x = keras.layers.BatchNormalization()(x)\n",
        "\n",
        "    x = keras.layers.Activation('relu')(x)\n",
        "    x = keras.layers.Conv2DTranspose(filters, 3, padding = 'same')(x)\n",
        "    x = keras.layers.BatchNormalization()(x)\n",
        "\n",
        "    x = keras.layers.UpSampling2D(2)(x)\n",
        "\n",
        "    # Project residual\n",
        "    residual = keras.layers.UpSampling2D(2)(previous_block_activation)\n",
        "    residual = keras.layers.Conv2D(filters, 1, padding='same')(residual)\n",
        "    x = keras.layers.add([x, residual])\n",
        "    previous_block_activation = x\n",
        "\n",
        "  outputs = keras.layers.Conv2D(num_classes, 3, activation = 'softmax', padding='same')(x)\n",
        "\n",
        "  # Define Model\n",
        "  model = keras.Model(inputs, outputs)\n",
        "  return model\n"
      ],
      "metadata": {
        "id": "uNbgmkOp85_O"
      },
      "execution_count": null,
      "outputs": []
    },
    {
      "cell_type": "code",
      "source": [
        "# measure the model progress\n",
        "test_images, test_masks = next(iter(resized_test_ds))"
      ],
      "metadata": {
        "id": "5Sx6_0p_859M"
      },
      "execution_count": null,
      "outputs": []
    },
    {
      "cell_type": "code",
      "source": [
        "import random\n",
        "class DisplayCallback(keras.callbacks.Callback):\n",
        "    def __init__(self, epoch_interval=None):\n",
        "        self.epoch_interval = epoch_interval\n",
        "\n",
        "    def on_epoch_end(self, epoch, logs=None):\n",
        "        if self.epoch_interval and epoch % self.epoch_interval == 0:\n",
        "            pred_masks = self.model.predict(test_images)\n",
        "            pred_masks = tf.math.argmax(pred_masks, axis=-1)\n",
        "            pred_masks = pred_masks[..., tf.newaxis]\n",
        "\n",
        "            # Randomly select an image from the test batch\n",
        "            random_index = random.randint(0, BATCH_SIZE - 1)\n",
        "            random_image = test_images[random_index]\n",
        "            random_pred_mask = pred_masks[random_index]\n",
        "            random_true_mask = test_masks[random_index]\n",
        "\n",
        "            fig, ax = plt.subplots(nrows=1, ncols=3, figsize=(10, 5))\n",
        "            ax[0].imshow(random_image)\n",
        "            ax[0].set_title(f\"Image: {epoch:03d}\")\n",
        "\n",
        "            ax[1].imshow(random_true_mask)\n",
        "            ax[1].set_title(f\"Ground Truth Mask: {epoch:03d}\")\n",
        "\n",
        "            ax[2].imshow(random_pred_mask)\n",
        "            ax[2].set_title(\n",
        "                f\"Predicted Mask: {epoch:03d}\",\n",
        "            )\n",
        "\n",
        "            plt.show()\n",
        "            plt.close()\n",
        "\n",
        "\n",
        "callbacks = [DisplayCallback(5)]"
      ],
      "metadata": {
        "id": "uAgPjL7B8550"
      },
      "execution_count": null,
      "outputs": []
    },
    {
      "cell_type": "markdown",
      "source": [
        "## Model Training"
      ],
      "metadata": {
        "id": "2gU2Z5iDWr0P"
      }
    },
    {
      "cell_type": "code",
      "source": [
        "model = get_model(img_size=(IMG_HEIGHT, IMG_WIDTH), num_classes= NUM_CLASSES)\n",
        "model.compile(\n",
        "    optimizer = keras.optimizers.Adam(LEARNING_RATE),\n",
        "    loss = 'sparse_categorical_crossentropy',\n",
        "    metrics = ['accuracy']\n",
        ")\n",
        "history = model.fit(\n",
        "    augment_train_ds,\n",
        "    epochs = EPOCHS,\n",
        "    validation_data = resized_test_ds,\n",
        "    callbacks = callbacks,\n",
        ")"
      ],
      "metadata": {
        "id": "cww9mu0G8532"
      },
      "execution_count": null,
      "outputs": []
    },
    {
      "cell_type": "markdown",
      "source": [
        "## Infrences"
      ],
      "metadata": {
        "id": "LsTC7fTAYLRR"
      }
    },
    {
      "cell_type": "code",
      "source": [
        "pred_masks = model.predict(test_images)\n",
        "pred_masks = tf.math.argmax(pred_masks, axis=-1)[..., None]\n",
        "\n",
        "keras_cv.visualization.plot_segmentation_mask_gallery(\n",
        "    test_images,\n",
        "    value_range = (0, 1),\n",
        "    num_classes = 3,\n",
        "    y_true = test_masks,\n",
        "    y_pred = pred_masks,\n",
        "    scale = 4,\n",
        "    rows = 2,\n",
        "    cols =2,\n",
        ")"
      ],
      "metadata": {
        "id": "xSUXKm_y850A"
      },
      "execution_count": null,
      "outputs": []
    },
    {
      "cell_type": "code",
      "source": [],
      "metadata": {
        "id": "mGXRoEM085yB"
      },
      "execution_count": null,
      "outputs": []
    }
  ],
  "metadata": {
    "accelerator": "GPU",
    "colab": {
      "provenance": [],
      "private_outputs": true,
      "gpuType": "T4",
      "authorship_tag": "ABX9TyOmifV8HzDn9VNXESDjpW+i",
      "include_colab_link": true
    },
    "kernelspec": {
      "display_name": "Python 3",
      "name": "python3"
    },
    "language_info": {
      "name": "python"
    }
  },
  "nbformat": 4,
  "nbformat_minor": 0
}